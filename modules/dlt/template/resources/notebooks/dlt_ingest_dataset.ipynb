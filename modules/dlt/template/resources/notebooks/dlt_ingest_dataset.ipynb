{
 "cells": [
  {
   "cell_type": "code",
   "execution_count": null,
   "metadata": {},
   "outputs": [],
   "source": [
    "file_path = str(spark.conf.get(\"bundle.sourcePath\", \".\"))\n",
    "\n",
    "%pip install {file_path}/dist/*.whl"
   ]
  },
  {
   "cell_type": "markdown",
   "metadata": {},
   "source": [
    "# Data ingestion with Delta Live Tables\n"
   ]
  },
  {
   "cell_type": "markdown",
   "metadata": {
    "application/vnd.databricks.v1+cell": {
     "cellMetadata": {
      "byteLimit": 2048000,
      "rowLimit": 10000
     },
     "inputWidgets": {},
     "nuid": "854585a4-85e4-49e0-bc3d-81ea7fce9788",
     "showTitle": false,
     "title": ""
    }
   },
   "source": [
    "#### Load libraries and functions\n"
   ]
  },
  {
   "cell_type": "code",
   "execution_count": null,
   "metadata": {
    "application/vnd.databricks.v1+cell": {
     "cellMetadata": {
      "byteLimit": 2048000,
      "rowLimit": 10000
     },
     "inputWidgets": {},
     "nuid": "60385ce8-677c-4fa1-b71b-d9da3963e343",
     "showTitle": false,
     "title": ""
    }
   },
   "outputs": [],
   "source": [
    "import dlt\n",
    "from pyspark.sql import DataFrame\n",
    "from pyspark.sql import functions as F"
   ]
  },
  {
   "cell_type": "markdown",
   "metadata": {
    "application/vnd.databricks.v1+cell": {
     "cellMetadata": {
      "byteLimit": 2048000,
      "rowLimit": 10000
     },
     "inputWidgets": {},
     "nuid": "d2c8fc2a-8dd3-4fa3-b8ad-9cc189579cb4",
     "showTitle": false,
     "title": ""
    }
   },
   "source": [
    "### Set parameters\n"
   ]
  },
  {
   "cell_type": "code",
   "execution_count": null,
   "metadata": {},
   "outputs": [],
   "source": [
    "table_name = spark.conf.get(\"table_name\")\n",
    "autoloader_path = spark.conf.get(\"autoloader_path\")"
   ]
  },
  {
   "cell_type": "markdown",
   "metadata": {
    "application/vnd.databricks.v1+cell": {
     "cellMetadata": {
      "byteLimit": 2048000,
      "rowLimit": 10000
     },
     "inputWidgets": {},
     "nuid": "8ed3b4a6-390f-4804-b89d-c2686f3012ee",
     "showTitle": false,
     "title": ""
    }
   },
   "source": [
    "## Ingest data with the Auto Loader\n"
   ]
  },
  {
   "cell_type": "code",
   "execution_count": null,
   "metadata": {
    "application/vnd.databricks.v1+cell": {
     "cellMetadata": {
      "byteLimit": 2048000,
      "rowLimit": 10000
     },
     "inputWidgets": {},
     "nuid": "01c20bca-909c-4ff9-aa79-c99e6787edc5",
     "showTitle": false,
     "title": ""
    }
   },
   "outputs": [],
   "source": [
    "@dlt.table(\n",
    "    name=f\"raw_{table_name}\",\n",
    "    # temporary=True,\n",
    "    table_properties={\"quality\": \"raw\"},\n",
    "    comment=\"Data loaded from Landing Zone\",\n",
    ")\n",
    "def ingest() -> DataFrame:\n",
    "    \"\"\"Ingest raw data from the landing zone using the Auto Loader.\"\"\"\n",
    "    return (\n",
    "        spark.readStream.format(\"cloudFiles\")\n",
    "        .option(\"cloudFiles.format\", \"parquet\")\n",
    "        .load(autoloader_path)\n",
    "        .withColumn(\"load_date\", F.current_timestamp())\n",
    "        .select(\"*\", \"_metadata\")\n",
    "    )"
   ]
  },
  {
   "cell_type": "markdown",
   "metadata": {},
   "source": [
    "## Set [expectations](https://learn.microsoft.com/en-us/azure/databricks/delta-live-tables/expectations)\n"
   ]
  },
  {
   "cell_type": "code",
   "execution_count": null,
   "metadata": {},
   "outputs": [],
   "source": [
    "expectations = {}"
   ]
  },
  {
   "cell_type": "code",
   "execution_count": null,
   "metadata": {},
   "outputs": [],
   "source": [
    "@dlt.table(\n",
    "    name=f\"bronze_{table_name}\",\n",
    "    # temporary=True,\n",
    "    table_properties={\"quality\": \"bronze\"},\n",
    "    comment=\"Data transformed from raw\",\n",
    ")\n",
    "@dlt.expect_all_or_drop(expectations)\n",
    "def set_expectations() -> DataFrame:\n",
    "    \"\"\"Set expectations on raw data to set bronze quality.\"\"\"\n",
    "    return dlt.read_stream(f\"raw_{table_name}\")"
   ]
  },
  {
   "cell_type": "markdown",
   "metadata": {},
   "source": [
    "## Calculate SCD2\n"
   ]
  },
  {
   "cell_type": "code",
   "execution_count": null,
   "metadata": {},
   "outputs": [],
   "source": [
    "# Set the date_column as a string\n",
    "date_column = \"registration_dttm\"\n",
    "\n",
    "# Set the key_columns, track_columns, and exclude_columns as a list of strings\n",
    "key_columns = [\"id\"]\n",
    "track_columns = [\n",
    "    \"first_name\",\n",
    "    \"last_name\",\n",
    "    \"email\",\n",
    "    \"gender\",\n",
    "    \"ip_address\",\n",
    "    \"cc\",\n",
    "    \"country\",\n",
    "    \"birthdate\",\n",
    "    \"salary\",\n",
    "    \"title\",\n",
    "]\n",
    "except_columns = [\"comments\", \"_metadata\"]"
   ]
  },
  {
   "cell_type": "code",
   "execution_count": null,
   "metadata": {},
   "outputs": [],
   "source": [
    "dlt.create_streaming_table(\n",
    "    name=f\"silver_{table_name}\",\n",
    "    comment=\"SCD2 implemented\",\n",
    "    table_properties={\"quality\": \"silver\"},\n",
    ")\n",
    "\n",
    "dlt.apply_changes(\n",
    "    target=f\"silver_{table_name}\",\n",
    "    source=f\"bronze_{table_name}\",\n",
    "    keys=key_columns,\n",
    "    sequence_by=F.col(date_column),\n",
    "    except_column_list=except_columns,\n",
    "    ignore_null_updates=False,\n",
    "    track_history_column_list=track_columns,\n",
    "    stored_as_scd_type=\"2\",\n",
    ")"
   ]
  }
 ],
 "metadata": {
  "application/vnd.databricks.v1+notebook": {
   "dashboards": [],
   "language": "python",
   "notebookMetadata": {
    "pythonIndentUnit": 4
   },
   "notebookName": "landing",
   "widgets": {}
  },
  "kernelspec": {
   "display_name": ".venv",
   "language": "python",
   "name": "python3"
  },
  "language_info": {
   "codemirror_mode": {
    "name": "ipython",
    "version": 3
   },
   "file_extension": ".py",
   "mimetype": "text/x-python",
   "name": "python",
   "nbconvert_exporter": "python",
   "pygments_lexer": "ipython3",
   "version": "3.10.12"
  }
 },
 "nbformat": 4,
 "nbformat_minor": 0
}
